{
 "cells": [
  {
   "cell_type": "markdown",
   "metadata": {},
   "source": [
    "# NEURAL NETWORKS AND DEEP LEARNING PROJECT\n",
    "\n",
    "---\n",
    "A.A. 2023/24 (6 CFU) - Giuseppe Labate, Sana Amiri\n",
    "---\n",
    "\n",
    "## Project 1 - Car classification, attribute prediction and car verification\n",
    "\n",
    "In this project \n",
    "\n",
    "1.   **Classification** car images given cars dataset CompCars.\n",
    "\n",
    "2.   **Attributes prediction** based on the images.  \n",
    "        Attributes for this project are:  \n",
    "        Explicit Attributes:  \n",
    "                             a. Number of doors  \n",
    "                             b. Number of seats  \n",
    "                             c. Type of car  \n",
    "        Implicit Attributes:  \n",
    "                             d. Max speed  \n",
    "                             e. Displacement  \n"
   ]
  }
 ],
 "metadata": {
  "kernelspec": {
   "display_name": "base",
   "language": "python",
   "name": "python3"
  },
  "language_info": {
   "name": "python",
   "version": "3.12.7"
  }
 },
 "nbformat": 4,
 "nbformat_minor": 2
}

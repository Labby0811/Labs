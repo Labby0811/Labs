{
 "cells": [
  {
   "cell_type": "markdown",
   "metadata": {
    "id": "rkIrxPzBAmqK"
   },
   "source": [
    "# NEURAL NETWORKS AND DEEP LEARNING\n",
    "\n",
    "---\n",
    "A.A. 2022/23 (6 CFU) - Dr. Jacopo Pegoraro, Dr. Daniele Mari\n",
    "---\n",
    "\n",
    "## Introduction"
   ]
  },
  {
   "cell_type": "markdown",
   "metadata": {
    "id": "t73lH7_dEZV6"
   },
   "source": [
    "# Local Environment"
   ]
  },
  {
   "cell_type": "markdown",
   "metadata": {
    "id": "ATA15aDpHGLW"
   },
   "source": [
    "## Reproduce the environment on local machine\n"
   ]
  },
  {
   "cell_type": "markdown",
   "metadata": {
    "id": "dVvmdbq1VnOH"
   },
   "source": [
    "\n",
    "The easiest way to reproduce the python environment on a local machine is to properly install Anaconda: [https://www.anaconda.com/](https://www.anaconda.com/)  \n"
   ]
  },
  {
   "cell_type": "markdown",
   "metadata": {
    "id": "4q5jwhWRVoeR"
   },
   "source": [
    "\n",
    "To install PyTorch you can follow these instructions: [https://pytorch.org/get-started/locally/](https://pytorch.org/get-started/locally/)"
   ]
  },
  {
   "cell_type": "markdown",
   "metadata": {
    "id": "Nik5lkc56wJa"
   },
   "source": [
    "### Conda environment\n",
    "With Anaconda you can easily create a Python virtual environment which is isolated from the rest of the system. You can have multiple environments with different packages and versions without any concern about potential conflicts.\n",
    "\n",
    "This is an example to create a new Pytorch environment (with GPU support):\n",
    "\n",
    "``` \n",
    "conda create --name torch python=3.8 anaconda\n",
    "conda activate torch\n",
    "conda install pytorch torchvision cudatoolkit=11.3 -c pytorch\n",
    "```\n",
    "\n",
    "Remember to activate the proper environment before executing any command:\n",
    "``` \n",
    "conda activate torch\n",
    "```\n",
    "\n",
    "\n",
    "\n"
   ]
  },
  {
   "cell_type": "markdown",
   "metadata": {
    "id": "Shx670zY8TOh"
   },
   "source": [
    "Since we installed the *anaconda* package, jupyter-lab is already available:\n",
    "```\n",
    "jupyter-lab\n",
    "```\n",
    "\n",
    "or you can use an IDE like Spyder, also included in Anaconda:\n",
    "```\n",
    "spyder3\n",
    "```\n",
    "\n",
    "Other good IDEs are:\n",
    " - PyCharm (**free educational license**): https://www.jetbrains.com/community/education/#students\n",
    " - Visual Studio Code (free, also for linux): https://code.visualstudio.com/\n",
    "\n",
    "You can install new packages using either *conda* (suggested) or *pip* "
   ]
  },
  {
   "cell_type": "markdown",
   "metadata": {
    "id": "ffT5W0J_8tMm"
   },
   "source": [
    "Some useful commands:\n",
    "\n",
    "```\n",
    "### Update\n",
    "conda update conda     # Update the conda binaries\n",
    "conda update anaconda  # Update the anaconda metapackage\n",
    "conda update --all     # Update each package to the latest version\n",
    "\n",
    "### Add additional repositories (e.g. conda-forge)\n",
    "conda config --add channels conda-forge\n",
    "\n",
    "### Clean cache\n",
    "conda clean -a\n",
    "\n",
    "### Create new environment\n",
    "conda create --name myenv                    # Empty environment\n",
    "conda create -n myenv python=3.4 anaconda    # base anaconda packages with specific python version\n",
    "\n",
    "### Export your active environment to the new file\n",
    "conda env export > environment.yml\n",
    "\n",
    "### Create environment from file\n",
    "conda env create -f environment.yml\n",
    "\n",
    "### List environments\n",
    "conda env list\n",
    "\n",
    "### Delete environment\n",
    "conda env remove -n myenv\n",
    "\n",
    "### Activate environment\n",
    "conda activate myenv\n",
    "```\n",
    "\n"
   ]
  },
  {
   "cell_type": "markdown",
   "metadata": {
    "id": "5zTPgaf9_gMw"
   },
   "source": [
    "# Cloud Services"
   ]
  },
  {
   "cell_type": "markdown",
   "metadata": {
    "id": "Dy2SNwgJ_gMw"
   },
   "source": [
    "## Google CoLab"
   ]
  },
  {
   "cell_type": "markdown",
   "metadata": {
    "id": "hg6-jR_n_gMx"
   },
   "source": [
    "It's a free service, with **shared** resources (also GPUs!)\n",
    "\n",
    "It's easy to setup and it should be enough for all the tasks of this course.\n",
    "\n",
    "Note: you have to ask for the GPU if you need it from *runtime>change runtime type*"
   ]
  },
  {
   "cell_type": "markdown",
   "metadata": {
    "id": "hRc4W5QJF2Tr"
   },
   "source": [
    "### What you need\n",
    "\n",
    "*   a valid Google account"
   ]
  },
  {
   "cell_type": "markdown",
   "metadata": {
    "id": "Q1nK_LeVBh7z"
   },
   "source": [
    "\n",
    "# The Zen of Python\n"
   ]
  },
  {
   "cell_type": "code",
   "execution_count": null,
   "metadata": {
    "id": "vConKjGiCszc"
   },
   "outputs": [
    {
     "name": "stdout",
     "output_type": "stream",
     "text": [
      "The Zen of Python, by Tim Peters\n",
      "\n",
      "Beautiful is better than ugly.\n",
      "Explicit is better than implicit.\n",
      "Simple is better than complex.\n",
      "Complex is better than complicated.\n",
      "Flat is better than nested.\n",
      "Sparse is better than dense.\n",
      "Readability counts.\n",
      "Special cases aren't special enough to break the rules.\n",
      "Although practicality beats purity.\n",
      "Errors should never pass silently.\n",
      "Unless explicitly silenced.\n",
      "In the face of ambiguity, refuse the temptation to guess.\n",
      "There should be one-- and preferably only one --obvious way to do it.\n",
      "Although that way may not be obvious at first unless you're Dutch.\n",
      "Now is better than never.\n",
      "Although never is often better than *right* now.\n",
      "If the implementation is hard to explain, it's a bad idea.\n",
      "If the implementation is easy to explain, it may be a good idea.\n",
      "Namespaces are one honking great idea -- let's do more of those!\n"
     ]
    }
   ],
   "source": [
    "import this"
   ]
  },
  {
   "cell_type": "markdown",
   "metadata": {
    "id": "vHEWS8hkEScf"
   },
   "source": [
    "# Installing modules\n",
    "\n",
    "The default Colab environment includes most of commonly used python modules. If you require a specific module (or a specific version) which is not available, you can use the *pip* package-management system. Let's try with *wfdb*, a software for viewing, analyzing, and creating recordings of physiologic signals by Physionet."
   ]
  },
  {
   "cell_type": "code",
   "execution_count": 2,
   "metadata": {
    "id": "ahiHGhfsEOWr"
   },
   "outputs": [
    {
     "name": "stdout",
     "output_type": "stream",
     "text": [
      "Requirement already satisfied: numpy in c:\\users\\giuse\\appdata\\local\\programs\\python\\python310\\lib\\site-packages (1.22.3)\n"
     ]
    }
   ],
   "source": [
    "!pip install numpy"
   ]
  },
  {
   "cell_type": "markdown",
   "metadata": {
    "id": "WqJvg63fEn70"
   },
   "source": [
    "Most python modules can be installed trough pip package-management system. The pip command can be used at runtime in Colab:"
   ]
  },
  {
   "cell_type": "code",
   "execution_count": 1,
   "metadata": {
    "id": "b8l892PnEYRe"
   },
   "outputs": [
    {
     "name": "stdout",
     "output_type": "stream",
     "text": [
      "1.26.4\n"
     ]
    }
   ],
   "source": [
    "import numpy\n",
    "print(numpy.__version__)"
   ]
  },
  {
   "cell_type": "markdown",
   "metadata": {
    "id": "hjb_Jy3aCqEi"
   },
   "source": [
    "\n",
    "# Variables \n"
   ]
  },
  {
   "cell_type": "markdown",
   "metadata": {
    "id": "a50kfxfmDM0b"
   },
   "source": [
    "No need to define the type of a variable"
   ]
  },
  {
   "cell_type": "code",
   "execution_count": 2,
   "metadata": {
    "id": "QVUwOnR6wGjQ"
   },
   "outputs": [
    {
     "name": "stdout",
     "output_type": "stream",
     "text": [
      "<class 'int'>\n",
      "<class 'str'>\n"
     ]
    }
   ],
   "source": [
    "a = 1 # int\n",
    "b = 'string' # string\n",
    "print(type(a))\n",
    "print(type(b))"
   ]
  },
  {
   "cell_type": "markdown",
   "metadata": {
    "id": "Iu7qftNDwKnY"
   },
   "source": [
    "A variable can change type at any time (dynamic type)\n"
   ]
  },
  {
   "cell_type": "code",
   "execution_count": 3,
   "metadata": {
    "id": "2PghKfWawL3e"
   },
   "outputs": [
    {
     "name": "stdout",
     "output_type": "stream",
     "text": [
      "<class 'int'>\n",
      "<class 'str'>\n"
     ]
    }
   ],
   "source": [
    "print(type(a))\n",
    "a = 'string' # now a is a string\n",
    "print(type(a))"
   ]
  },
  {
   "cell_type": "markdown",
   "metadata": {
    "id": "O04dYpMTwNQL"
   },
   "source": [
    "Comparison"
   ]
  },
  {
   "cell_type": "code",
   "execution_count": 6,
   "metadata": {
    "id": "-TYv_BfxwN7F"
   },
   "outputs": [
    {
     "name": "stdout",
     "output_type": "stream",
     "text": [
      "True\n",
      "True\n",
      "False\n",
      "True\n"
     ]
    }
   ],
   "source": [
    "print(a == b)\n",
    "print(1 != 2)\n",
    "print(1 > 2)\n",
    "print(1 <= 2)"
   ]
  },
  {
   "cell_type": "markdown",
   "metadata": {
    "id": "hq8QIAWgwOjO"
   },
   "source": [
    "Combine multiple comparisons\n"
   ]
  },
  {
   "cell_type": "code",
   "execution_count": 7,
   "metadata": {
    "id": "R1iPfaMuwO7d"
   },
   "outputs": [
    {
     "name": "stdout",
     "output_type": "stream",
     "text": [
      "True\n"
     ]
    }
   ],
   "source": [
    "print(a == b and a == 'string')"
   ]
  },
  {
   "cell_type": "markdown",
   "metadata": {
    "id": "x33nccKnwQ5z"
   },
   "source": [
    "Personal advice: always use brackets to combine multiple comparisons, complex concatenations may generate unexpected results\n"
   ]
  },
  {
   "cell_type": "code",
   "execution_count": 8,
   "metadata": {
    "id": "0eAN5op-wRRM"
   },
   "outputs": [
    {
     "name": "stdout",
     "output_type": "stream",
     "text": [
      "True\n"
     ]
    }
   ],
   "source": [
    "print((a == b) and (type(a) is str) and (len(a) == 6) and ((a == 'string') or (type(a) is str)))"
   ]
  },
  {
   "cell_type": "markdown",
   "metadata": {
    "id": "FB1Okz7IwR38"
   },
   "source": [
    "Search for substring"
   ]
  },
  {
   "cell_type": "code",
   "execution_count": 9,
   "metadata": {
    "id": "Xj2mVgYEwSOU"
   },
   "outputs": [
    {
     "name": "stdout",
     "output_type": "stream",
     "text": [
      "True\n",
      "False\n"
     ]
    }
   ],
   "source": [
    "a = 'string'\n",
    "print('ri' in a)\n",
    "print('ro' in a)"
   ]
  },
  {
   "cell_type": "markdown",
   "metadata": {
    "id": "ogtut_hEDVSG"
   },
   "source": [
    "\n",
    "# Built-in data structures\n"
   ]
  },
  {
   "cell_type": "markdown",
   "metadata": {
    "id": "XQFdc57JDV9D"
   },
   "source": [
    "## Lists"
   ]
  },
  {
   "cell_type": "markdown",
   "metadata": {
    "id": "lhZwbT67w_d-"
   },
   "source": [
    "Define a list"
   ]
  },
  {
   "cell_type": "code",
   "execution_count": 5,
   "metadata": {
    "id": "MJT2Qlt1xAsH"
   },
   "outputs": [],
   "source": [
    "mylist = ['this', 'is', 'a', 'list']"
   ]
  },
  {
   "cell_type": "markdown",
   "metadata": {
    "id": "87kzcmkNxOra"
   },
   "source": [
    "Access list elements (0 is the FIRST element)"
   ]
  },
  {
   "cell_type": "code",
   "execution_count": 6,
   "metadata": {
    "id": "1sBb2HjdxMAH"
   },
   "outputs": [
    {
     "name": "stdout",
     "output_type": "stream",
     "text": [
      "this\n",
      "is\n",
      "a\n",
      "list\n"
     ]
    },
    {
     "ename": "IndexError",
     "evalue": "list index out of range",
     "output_type": "error",
     "traceback": [
      "\u001b[1;31m---------------------------------------------------------------------------\u001b[0m",
      "\u001b[1;31mIndexError\u001b[0m                                Traceback (most recent call last)",
      "Cell \u001b[1;32mIn[6], line 5\u001b[0m\n\u001b[0;32m      3\u001b[0m \u001b[38;5;28mprint\u001b[39m(mylist[\u001b[38;5;241m2\u001b[39m])\n\u001b[0;32m      4\u001b[0m \u001b[38;5;28mprint\u001b[39m(mylist[\u001b[38;5;241m3\u001b[39m])\n\u001b[1;32m----> 5\u001b[0m \u001b[38;5;28mprint\u001b[39m(mylist[\u001b[38;5;241m4\u001b[39m])\n",
      "\u001b[1;31mIndexError\u001b[0m: list index out of range"
     ]
    }
   ],
   "source": [
    "print(mylist[0])\n",
    "print(mylist[1])\n",
    "print(mylist[2])\n",
    "print(mylist[3])\n",
    "print(mylist[4]) # <- ERROR - Out of range"
   ]
  },
  {
   "cell_type": "markdown",
   "metadata": {
    "id": "4CI59FK3xRpf"
   },
   "source": [
    "Negative index (VERY USEFUL!)"
   ]
  },
  {
   "cell_type": "code",
   "execution_count": 12,
   "metadata": {
    "id": "mLn3wh8LxSrw"
   },
   "outputs": [
    {
     "name": "stdout",
     "output_type": "stream",
     "text": [
      "list\n",
      "a\n",
      "is\n",
      "this\n"
     ]
    }
   ],
   "source": [
    "print(mylist[-1])\n",
    "print(mylist[-2])\n",
    "print(mylist[-3])\n",
    "print(mylist[-4])"
   ]
  },
  {
   "cell_type": "markdown",
   "metadata": {
    "id": "i-yAc7s1xUdb"
   },
   "source": [
    "Number of elements in a list"
   ]
  },
  {
   "cell_type": "code",
   "execution_count": 13,
   "metadata": {
    "id": "HzbdQwzhxTH_"
   },
   "outputs": [
    {
     "name": "stdout",
     "output_type": "stream",
     "text": [
      "4\n"
     ]
    }
   ],
   "source": [
    "print(len(mylist))"
   ]
  },
  {
   "cell_type": "markdown",
   "metadata": {
    "id": "RJrOUB1ixXG_"
   },
   "source": [
    "Append elements to a list"
   ]
  },
  {
   "cell_type": "code",
   "execution_count": 14,
   "metadata": {
    "id": "hIM25rpvxXlv"
   },
   "outputs": [],
   "source": [
    "mylist.append('!')"
   ]
  },
  {
   "cell_type": "markdown",
   "metadata": {
    "id": "7pO0LUhdxX6P"
   },
   "source": [
    "Now the list has 5 elements"
   ]
  },
  {
   "cell_type": "code",
   "execution_count": 15,
   "metadata": {
    "id": "VIhPDefdxYKW"
   },
   "outputs": [
    {
     "name": "stdout",
     "output_type": "stream",
     "text": [
      "['this', 'is', 'a', 'list', '!']\n",
      "!\n"
     ]
    }
   ],
   "source": [
    "print(mylist)\n",
    "print(mylist[4])"
   ]
  },
  {
   "cell_type": "markdown",
   "metadata": {
    "id": "Ns9FDdslxaga"
   },
   "source": [
    "Insert elements to a specific index"
   ]
  },
  {
   "cell_type": "code",
   "execution_count": 16,
   "metadata": {
    "id": "iVxrWlvbxZOM"
   },
   "outputs": [
    {
     "name": "stdout",
     "output_type": "stream",
     "text": [
      "['this', 'is', 'not', 'a', 'list', '!']\n"
     ]
    }
   ],
   "source": [
    "mylist.insert(2, 'not')\n",
    "print(mylist)"
   ]
  },
  {
   "cell_type": "markdown",
   "metadata": {
    "id": "ALLccjkKxbVe"
   },
   "source": [
    "Edit elements"
   ]
  },
  {
   "cell_type": "code",
   "execution_count": 17,
   "metadata": {
    "id": "rAcUxK9UxcPG"
   },
   "outputs": [
    {
     "name": "stdout",
     "output_type": "stream",
     "text": [
      "['this', 'is', 'still', 'a', 'list', '!']\n"
     ]
    }
   ],
   "source": [
    "mylist[2] = 'still'\n",
    "print(mylist)"
   ]
  },
  {
   "cell_type": "markdown",
   "metadata": {
    "id": "IKDQ2x-wxcke"
   },
   "source": [
    "List supports heterogeneous types (e.g. string and float in the same list)"
   ]
  },
  {
   "cell_type": "code",
   "execution_count": 18,
   "metadata": {
    "id": "pL1Xum9LxdR8"
   },
   "outputs": [
    {
     "name": "stdout",
     "output_type": "stream",
     "text": [
      "['this', 'is', 'still', 'a', 'list', '!', 32.4]\n"
     ]
    }
   ],
   "source": [
    "mylist.append(32.4)\n",
    "print(mylist)"
   ]
  },
  {
   "cell_type": "markdown",
   "metadata": {
    "id": "oPQONjJhxc6G"
   },
   "source": [
    "You can even append the entire numpy library to a list!"
   ]
  },
  {
   "cell_type": "code",
   "execution_count": 19,
   "metadata": {
    "id": "NYSzh-zRxd0F"
   },
   "outputs": [
    {
     "name": "stdout",
     "output_type": "stream",
     "text": [
      "['this', 'is', 'still', 'a', 'list', '!', 32.4, <module 'numpy' from 'c:\\\\Users\\\\giuse\\\\AppData\\\\Local\\\\Programs\\\\Python\\\\Python310\\\\lib\\\\site-packages\\\\numpy\\\\__init__.py'>]\n"
     ]
    },
    {
     "data": {
      "text/plain": [
       "array([1, 2, 3])"
      ]
     },
     "execution_count": 19,
     "metadata": {},
     "output_type": "execute_result"
    }
   ],
   "source": [
    "import numpy as np\n",
    "mylist.append(np)\n",
    "print(mylist)\n",
    "mylist[-1].array([1,2,3]) # equivalent to np.array([1, 2, 3])"
   ]
  },
  {
   "cell_type": "markdown",
   "metadata": {
    "id": "-RVxY8U2xeZd"
   },
   "source": [
    "Copy a list (**PAY ATTENTION!**)"
   ]
  },
  {
   "cell_type": "code",
   "execution_count": 20,
   "metadata": {
    "id": "8J99E6svxesV"
   },
   "outputs": [
    {
     "name": "stdout",
     "output_type": "stream",
     "text": [
      "['Hey!', 'is', 'a', 'list']\n",
      "['Hey!', 'is', 'a', 'list']\n"
     ]
    }
   ],
   "source": [
    "mylist = ['this', 'is', 'a', 'list']\n",
    "mylist2 = mylist\n",
    "mylist[0] = 'Hey!'\n",
    "print(mylist)\n",
    "print(mylist2)"
   ]
  },
  {
   "cell_type": "markdown",
   "metadata": {
    "id": "v3fGOK4uxfcM"
   },
   "source": [
    "mylist2 **HAS BEEN ALSO MODIFIED**!! Always check if the = operator assigns values or pointers!\n",
    "\n",
    "To make a different copy of a list use the .copy() function"
   ]
  },
  {
   "cell_type": "code",
   "execution_count": 21,
   "metadata": {
    "id": "cYy2tGq_xgM8"
   },
   "outputs": [
    {
     "name": "stdout",
     "output_type": "stream",
     "text": [
      "['Hey!', 'is', 'a', 'list']\n",
      "['this', 'is', 'a', 'list']\n"
     ]
    }
   ],
   "source": [
    "mylist = ['this', 'is', 'a', 'list']\n",
    "mylist2 = mylist.copy() # <- HERE\n",
    "mylist[0] = 'Hey!'\n",
    "print(mylist)\n",
    "print(mylist2)"
   ]
  },
  {
   "cell_type": "markdown",
   "metadata": {
    "id": "7iu7h6m9xg-L"
   },
   "source": [
    "## Tuples"
   ]
  },
  {
   "cell_type": "markdown",
   "metadata": {
    "id": "ad7ScNlpxhPV"
   },
   "source": [
    "Tuples can be thought as immutable lists, they can't be changed in-place!"
   ]
  },
  {
   "cell_type": "code",
   "execution_count": 22,
   "metadata": {
    "id": "7rxj3-Cqy0IL"
   },
   "outputs": [
    {
     "name": "stdout",
     "output_type": "stream",
     "text": [
      "('this', 'is', 'a', 'tuple')\n"
     ]
    }
   ],
   "source": [
    "mytuple = ('this', 'is', 'a', 'tuple')\n",
    "print(mytuple)\n"
   ]
  },
  {
   "cell_type": "markdown",
   "metadata": {
    "id": "ZLCN0amry0gz"
   },
   "source": [
    "NO item assignment"
   ]
  },
  {
   "cell_type": "code",
   "execution_count": 23,
   "metadata": {
    "id": "LOeq4zdty0w7"
   },
   "outputs": [
    {
     "ename": "TypeError",
     "evalue": "'tuple' object does not support item assignment",
     "output_type": "error",
     "traceback": [
      "\u001b[1;31m---------------------------------------------------------------------------\u001b[0m",
      "\u001b[1;31mTypeError\u001b[0m                                 Traceback (most recent call last)",
      "Cell \u001b[1;32mIn[23], line 1\u001b[0m\n\u001b[1;32m----> 1\u001b[0m \u001b[43mmytuple\u001b[49m\u001b[43m[\u001b[49m\u001b[38;5;241;43m0\u001b[39;49m\u001b[43m]\u001b[49m \u001b[38;5;241m=\u001b[39m \u001b[38;5;124m'\u001b[39m\u001b[38;5;124mHey!\u001b[39m\u001b[38;5;124m'\u001b[39m \u001b[38;5;66;03m# <- ERROR\u001b[39;00m\n",
      "\u001b[1;31mTypeError\u001b[0m: 'tuple' object does not support item assignment"
     ]
    }
   ],
   "source": [
    "mytuple[0] = 'Hey!' # <- ERROR"
   ]
  },
  {
   "cell_type": "markdown",
   "metadata": {
    "id": "4IwwdBiAy1B0"
   },
   "source": [
    "NO append"
   ]
  },
  {
   "cell_type": "code",
   "execution_count": 24,
   "metadata": {
    "id": "_p9aNgXSy1TL"
   },
   "outputs": [
    {
     "ename": "AttributeError",
     "evalue": "'tuple' object has no attribute 'append'",
     "output_type": "error",
     "traceback": [
      "\u001b[1;31m---------------------------------------------------------------------------\u001b[0m",
      "\u001b[1;31mAttributeError\u001b[0m                            Traceback (most recent call last)",
      "Cell \u001b[1;32mIn[24], line 1\u001b[0m\n\u001b[1;32m----> 1\u001b[0m \u001b[43mmytuple\u001b[49m\u001b[38;5;241;43m.\u001b[39;49m\u001b[43mappend\u001b[49m(\u001b[38;5;124m'\u001b[39m\u001b[38;5;124m!\u001b[39m\u001b[38;5;124m'\u001b[39m) \u001b[38;5;66;03m# <- ERROR\u001b[39;00m\n",
      "\u001b[1;31mAttributeError\u001b[0m: 'tuple' object has no attribute 'append'"
     ]
    }
   ],
   "source": [
    "mytuple.append('!') # <- ERROR"
   ]
  },
  {
   "cell_type": "markdown",
   "metadata": {
    "id": "RLN8kKr3y1qL"
   },
   "source": [
    "They must be redefined"
   ]
  },
  {
   "cell_type": "code",
   "execution_count": 26,
   "metadata": {
    "id": "fqlMS4ZIy17r"
   },
   "outputs": [
    {
     "name": "stdout",
     "output_type": "stream",
     "text": [
      "('this', 'is', 'a', 'tuple', '!')\n"
     ]
    }
   ],
   "source": [
    "mytuple = ('this', 'is', 'a', 'tuple', '!') # <- OK\n",
    "print(mytuple)"
   ]
  },
  {
   "cell_type": "markdown",
   "metadata": {
    "id": "HD2dEQ3M_gM5"
   },
   "source": [
    "Tuples are useful especially for:\n",
    "- returning multiple results from a function\n",
    "- access dictionaries with (keys, values) pairs"
   ]
  },
  {
   "cell_type": "markdown",
   "metadata": {
    "id": "GMwsFH90DZiU"
   },
   "source": [
    "\n",
    "## Dictionaries\n",
    "    "
   ]
  },
  {
   "cell_type": "markdown",
   "metadata": {
    "id": "_AhYayHRDaCl"
   },
   "source": [
    "Key-values pairs"
   ]
  },
  {
   "cell_type": "code",
   "execution_count": 27,
   "metadata": {
    "id": "T2x-zTG4zExo"
   },
   "outputs": [
    {
     "name": "stdout",
     "output_type": "stream",
     "text": [
      "{'Name': 'Daniele', 'Surname': 'Mari'}\n"
     ]
    }
   ],
   "source": [
    "mydict = {\n",
    "        'Name': 'Daniele',\n",
    "        'Surname': 'Mari'\n",
    "        }\n",
    "print(mydict)"
   ]
  },
  {
   "cell_type": "markdown",
   "metadata": {
    "id": "DlseB65pzFY1"
   },
   "source": [
    "Check dictionary keys"
   ]
  },
  {
   "cell_type": "code",
   "execution_count": 28,
   "metadata": {
    "id": "fozNoFvfzFot"
   },
   "outputs": [
    {
     "name": "stdout",
     "output_type": "stream",
     "text": [
      "dict_keys(['Name', 'Surname'])\n",
      "\"Name\" is a key of mydict\n"
     ]
    }
   ],
   "source": [
    "print(mydict.keys())\n",
    "if 'Name' in mydict.keys():\n",
    "    print('\"Name\" is a key of mydict')"
   ]
  },
  {
   "cell_type": "markdown",
   "metadata": {
    "id": "VqxeBnBOzF6e"
   },
   "source": [
    "Check dictionary values"
   ]
  },
  {
   "cell_type": "code",
   "execution_count": 29,
   "metadata": {
    "id": "Kf81103RzGGt"
   },
   "outputs": [
    {
     "name": "stdout",
     "output_type": "stream",
     "text": [
      "dict_values(['Daniele', 'Mari'])\n",
      "\"Daniele\" is a value of mydict\n"
     ]
    }
   ],
   "source": [
    "print(mydict.values())\n",
    "if 'Daniele' in mydict.values():\n",
    "    print('\"Daniele\" is a value of mydict')"
   ]
  },
  {
   "cell_type": "markdown",
   "metadata": {
    "id": "NiEI-KJqzGY9"
   },
   "source": [
    "Check dictionary items"
   ]
  },
  {
   "cell_type": "code",
   "execution_count": 30,
   "metadata": {
    "id": "7XLxplZ0zGlV"
   },
   "outputs": [
    {
     "name": "stdout",
     "output_type": "stream",
     "text": [
      "dict_items([('Name', 'Daniele'), ('Surname', 'Mari')])\n",
      "Key: Name -> Value: Daniele\n",
      "Key: Surname -> Value: Mari\n"
     ]
    }
   ],
   "source": [
    "print(mydict.items())\n",
    "# Iterate through items\n",
    "for key, value in mydict.items():\n",
    "    print('Key: %s -> Value: %s' % (key, value))"
   ]
  },
  {
   "cell_type": "markdown",
   "metadata": {
    "id": "yVqltFBZzG9f"
   },
   "source": [
    "Add additional key-value pairs"
   ]
  },
  {
   "cell_type": "code",
   "execution_count": 31,
   "metadata": {
    "id": "g-0A4UVWzHJk"
   },
   "outputs": [
    {
     "name": "stdout",
     "output_type": "stream",
     "text": [
      "{'Name': 'Daniele', 'Surname': 'Mari', 'Gender': 'M'}\n"
     ]
    }
   ],
   "source": [
    "mydict['Gender'] = 'M'\n",
    "print(mydict)"
   ]
  },
  {
   "cell_type": "markdown",
   "metadata": {
    "id": "s48MczyhzH2l"
   },
   "source": [
    "The values of a dictionary can be of any type!\n",
    "\n",
    "The keys of a dictionary must be hashable! (for example a list cannot be a key)"
   ]
  },
  {
   "cell_type": "code",
   "execution_count": 32,
   "metadata": {
    "id": "pSM52_TRzIH0"
   },
   "outputs": [
    {
     "name": "stdout",
     "output_type": "stream",
     "text": [
      "{'Name': 'Neural Network and Deep Learning', 'year': '2022/23', 'Professor': {'Name': 'Jacopo', 'Surname': 'Pegoraro'}}\n"
     ]
    }
   ],
   "source": [
    "professor = {\n",
    "        'Name': 'Jacopo',\n",
    "        'Surname': 'Pegoraro',\n",
    "        }\n",
    "course = {\n",
    "        'Name': 'Neural Network and Deep Learning',\n",
    "        'year': '2022/23',\n",
    "        'Professor': professor\n",
    "        }\n",
    "print(course)"
   ]
  },
  {
   "cell_type": "markdown",
   "metadata": {
    "id": "hh0gxdEkDXL4"
   },
   "source": [
    "\n",
    "# Conditional statements\n"
   ]
  },
  {
   "cell_type": "markdown",
   "metadata": {
    "id": "IgHnwocDDXuO"
   },
   "source": [
    "Check if a number is even or odd"
   ]
  },
  {
   "cell_type": "code",
   "execution_count": 33,
   "metadata": {
    "id": "KrUGld1XVxRE"
   },
   "outputs": [
    {
     "name": "stdout",
     "output_type": "stream",
     "text": [
      "a is even\n"
     ]
    }
   ],
   "source": [
    "a = 10\n",
    "if a % 2 == 0:\n",
    "    print('a is even')\n",
    "else:\n",
    "    print('a is odd')"
   ]
  },
  {
   "cell_type": "markdown",
   "metadata": {
    "id": "mz_8ysxDVyNw"
   },
   "source": [
    "Select a color"
   ]
  },
  {
   "cell_type": "code",
   "execution_count": 34,
   "metadata": {
    "id": "Gc9bNgOVVyhI"
   },
   "outputs": [
    {
     "name": "stdout",
     "output_type": "stream",
     "text": [
      "Color not supported\n"
     ]
    }
   ],
   "source": [
    "a = 'green'\n",
    "if a == 'blue':\n",
    "    print('Color blue selected')\n",
    "elif a == 'red':\n",
    "    print('Color red selected')\n",
    "elif a == 'yelow':\n",
    "    print('Color yellow selected')\n",
    "else:\n",
    "    print('Color not supported')"
   ]
  },
  {
   "cell_type": "markdown",
   "metadata": {
    "id": "pn1D_Mq1VzFt"
   },
   "source": [
    "The \"not\" statement"
   ]
  },
  {
   "cell_type": "code",
   "execution_count": 35,
   "metadata": {
    "id": "Nq9Zqrn6VzVf"
   },
   "outputs": [
    {
     "name": "stdout",
     "output_type": "stream",
     "text": [
      "a is NOT 2\n"
     ]
    }
   ],
   "source": [
    "a = 1\n",
    "if not a == 2:\n",
    "    print('a is NOT 2')"
   ]
  },
  {
   "cell_type": "markdown",
   "metadata": {
    "id": "6OdAKFmAVzpI"
   },
   "source": [
    "Check if element in list"
   ]
  },
  {
   "cell_type": "code",
   "execution_count": 36,
   "metadata": {
    "id": "BISOhlr5Vz3H"
   },
   "outputs": [
    {
     "name": "stdout",
     "output_type": "stream",
     "text": [
      "There is a 4 in mylist!\n"
     ]
    }
   ],
   "source": [
    "mylist = [1, 2, 3, 4]\n",
    "if 4 in mylist:\n",
    "    print('There is a 4 in mylist!')\n",
    "else:\n",
    "    print('NO 4 in mylist!')"
   ]
  },
  {
   "cell_type": "markdown",
   "metadata": {
    "id": "_D_A63FUDYVt"
   },
   "source": [
    "\n",
    "# Loops\n"
   ]
  },
  {
   "cell_type": "markdown",
   "metadata": {
    "id": "6zolYlYZDY0T"
   },
   "source": [
    "## For loops"
   ]
  },
  {
   "cell_type": "code",
   "execution_count": 37,
   "metadata": {
    "id": "uvJmwmVsWSme"
   },
   "outputs": [
    {
     "name": "stdout",
     "output_type": "stream",
     "text": [
      "0\n",
      "1\n",
      "2\n",
      "3\n",
      "4\n",
      "5\n",
      "6\n",
      "7\n",
      "8\n",
      "9\n"
     ]
    }
   ],
   "source": [
    "for i in range(10): \n",
    "    # the function range create a generator from 0 to N, the for loops iterate each of this values\n",
    "    print(i)"
   ]
  },
  {
   "cell_type": "markdown",
   "metadata": {
    "id": "7cwCxHvDWTBo"
   },
   "source": [
    "For loops can also iterate list values (or tuples)"
   ]
  },
  {
   "cell_type": "code",
   "execution_count": 38,
   "metadata": {
    "id": "5X-hK9M7WVeg"
   },
   "outputs": [
    {
     "name": "stdout",
     "output_type": "stream",
     "text": [
      "Still\n",
      "the\n",
      "same\n",
      "list\n"
     ]
    }
   ],
   "source": [
    "mylist = ['Still', 'the', 'same', 'list']\n",
    "for list_element in mylist:\n",
    "    print(list_element)"
   ]
  },
  {
   "cell_type": "markdown",
   "metadata": {
    "id": "d2rTQmt_WWaY"
   },
   "source": [
    "Iterate through multiple lists at the same time\n",
    "\n",
    "Example: element-wise product"
   ]
  },
  {
   "cell_type": "code",
   "execution_count": 39,
   "metadata": {
    "id": "WywxOc87WWt_"
   },
   "outputs": [
    {
     "name": "stdout",
     "output_type": "stream",
     "text": [
      "[2, 6, 15, 24]\n"
     ]
    }
   ],
   "source": [
    "list_a = [1, 2, 3, 4]\n",
    "list_b = [2, 3, 5, 6]\n",
    "result = [] # Empty list\n",
    "for a, b in zip(list_a, list_b):\n",
    "    # a contains the element in list_a\n",
    "    # b contains the element in list_b\n",
    "    result.append(a * b)\n",
    "print(result)\n",
    "   \n"
   ]
  },
  {
   "cell_type": "markdown",
   "metadata": {
    "id": "hAwFzbJSWXR_"
   },
   "source": [
    "## Enumerate"
   ]
  },
  {
   "cell_type": "code",
   "execution_count": 40,
   "metadata": {
    "id": "7js1clXQWXiX"
   },
   "outputs": [
    {
     "name": "stdout",
     "output_type": "stream",
     "text": [
      "mylist contains the element \"Still\" at index 0\n",
      "mylist contains the element \"the\" at index 1\n",
      "mylist contains the element \"same\" at index 2\n",
      "mylist contains the element \"list\" at index 3\n"
     ]
    }
   ],
   "source": [
    "mylist = ['Still', 'the', 'same', 'list']\n",
    "\n",
    "for idx, list_element in enumerate(mylist):\n",
    "    # Now idx contains the index of the list_element\n",
    "    print('mylist contains the element \"%s\" at index %d' % (list_element, idx))"
   ]
  },
  {
   "cell_type": "markdown",
   "metadata": {
    "id": "sJnytQ22WX7W"
   },
   "source": [
    "## While loops"
   ]
  },
  {
   "cell_type": "code",
   "execution_count": 1,
   "metadata": {
    "id": "w_PyGEVyWYIP"
   },
   "outputs": [
    {
     "name": "stdout",
     "output_type": "stream",
     "text": [
      "a = 0 - Keep going\n",
      "a = 1 - Keep going\n",
      "a = 2 - Keep going\n",
      "a = 3 - Keep going\n",
      "a = 4 - Keep going\n",
      "a = 5 - Keep going\n",
      "a = 6 - Keep going\n",
      "a = 7 - Keep going\n",
      "a = 8 - Keep going\n",
      "a = 9 - Keep going\n",
      "a = 10 - Keep going\n",
      "STOP!\n"
     ]
    }
   ],
   "source": [
    "a = 0\n",
    "while True:\n",
    "    if a > 10:\n",
    "        print('STOP!')\n",
    "        break # ends the loop immediately\n",
    "    print('a = %d - Keep going' % a) # String formatting (C-style) the value of a goes to %d\n",
    "    a += 1 # Short version of a = a + 1    "
   ]
  },
  {
   "cell_type": "markdown",
   "metadata": {
    "id": "eE8n-kVtDbGg"
   },
   "source": [
    "\n",
    "# Functions\n"
   ]
  },
  {
   "cell_type": "markdown",
   "metadata": {
    "id": "2-zIdGSFDbyB"
   },
   "source": [
    "Simple function"
   ]
  },
  {
   "cell_type": "code",
   "execution_count": 2,
   "metadata": {
    "id": "0K2a666eWrT6"
   },
   "outputs": [
    {
     "name": "stdout",
     "output_type": "stream",
     "text": [
      "Hello!\n"
     ]
    }
   ],
   "source": [
    "def print_hello():\n",
    "    print('Hello!')\n",
    "\n",
    "print_hello()"
   ]
  },
  {
   "cell_type": "markdown",
   "metadata": {
    "id": "sQ3-9h0bWrxL"
   },
   "source": [
    "Mandatory input arguments"
   ]
  },
  {
   "cell_type": "code",
   "execution_count": 3,
   "metadata": {
    "id": "aHdANtzpWsJh"
   },
   "outputs": [
    {
     "name": "stdout",
     "output_type": "stream",
     "text": [
      "Please print this message\n"
     ]
    },
    {
     "ename": "TypeError",
     "evalue": "print_message() missing 1 required positional argument: 'message'",
     "output_type": "error",
     "traceback": [
      "\u001b[1;31m---------------------------------------------------------------------------\u001b[0m",
      "\u001b[1;31mTypeError\u001b[0m                                 Traceback (most recent call last)",
      "Cell \u001b[1;32mIn[3], line 5\u001b[0m\n\u001b[0;32m      2\u001b[0m     \u001b[38;5;28mprint\u001b[39m(message)\n\u001b[0;32m      4\u001b[0m print_message(\u001b[38;5;124m'\u001b[39m\u001b[38;5;124mPlease print this message\u001b[39m\u001b[38;5;124m'\u001b[39m)\n\u001b[1;32m----> 5\u001b[0m \u001b[43mprint_message\u001b[49m\u001b[43m(\u001b[49m\u001b[43m)\u001b[49m \u001b[38;5;66;03m# <- ERROR\u001b[39;00m\n",
      "\u001b[1;31mTypeError\u001b[0m: print_message() missing 1 required positional argument: 'message'"
     ]
    }
   ],
   "source": [
    "def print_message(message):\n",
    "    print(message)\n",
    "    \n",
    "print_message('Please print this message')\n",
    "print_message() # <- ERROR"
   ]
  },
  {
   "cell_type": "markdown",
   "metadata": {
    "id": "NoyBUmZnWsnp"
   },
   "source": [
    "Optional input arguments"
   ]
  },
  {
   "cell_type": "code",
   "execution_count": 4,
   "metadata": {
    "id": "Scj3zuaTWs2x"
   },
   "outputs": [
    {
     "name": "stdout",
     "output_type": "stream",
     "text": [
      "Please print this message\n",
      "Default message\n"
     ]
    }
   ],
   "source": [
    "def print_message(message='Default message'):\n",
    "    print(message)\n",
    "    \n",
    "print_message('Please print this message')\n",
    "print_message() # <- Print the default value"
   ]
  },
  {
   "cell_type": "markdown",
   "metadata": {
    "id": "rCYjNEKPWtPp"
   },
   "source": [
    "Return something"
   ]
  },
  {
   "cell_type": "code",
   "execution_count": 5,
   "metadata": {
    "id": "kAst4W4HWtcQ"
   },
   "outputs": [
    {
     "name": "stdout",
     "output_type": "stream",
     "text": [
      "5\n"
     ]
    }
   ],
   "source": [
    "def mysum(a, b):\n",
    "    return a + b\n",
    "\n",
    "c = mysum(2, 3)\n",
    "print(c)"
   ]
  },
  {
   "cell_type": "markdown",
   "metadata": {
    "id": "PqwzmK0nWt7w"
   },
   "source": [
    "Functions have access to the global namespace, BUT BE CAREFUL!"
   ]
  },
  {
   "cell_type": "code",
   "execution_count": 6,
   "metadata": {
    "id": "otsBWBoxWuJQ"
   },
   "outputs": [
    {
     "name": "stdout",
     "output_type": "stream",
     "text": [
      "4\n"
     ]
    }
   ],
   "source": [
    "def print_a_squared():\n",
    "    print(a**2)\n",
    "    \n",
    "a = 2\n",
    "print_a_squared()"
   ]
  },
  {
   "cell_type": "markdown",
   "metadata": {
    "id": "9dSZLutTWulf"
   },
   "source": [
    "You can use \"a\" but you cannot modify it..."
   ]
  },
  {
   "cell_type": "code",
   "execution_count": 7,
   "metadata": {
    "id": "peQzTwZcWuz3"
   },
   "outputs": [
    {
     "name": "stdout",
     "output_type": "stream",
     "text": [
      "2\n",
      "2\n"
     ]
    }
   ],
   "source": [
    "def change_a():\n",
    "    a = 4 # This is another \"a\" (local variable), it only exists within this function\n",
    "    \n",
    "a = 2\n",
    "print(a)\n",
    "change_a()\n",
    "print(a) # \"a\" has NOT been changed"
   ]
  },
  {
   "cell_type": "markdown",
   "metadata": {
    "id": "T-xfroMdWviY"
   },
   "source": [
    "...unless you define it as global variable in the local space\n",
    "\n",
    "*PERSONAL ADVICE*: try to avoid using the global namespace inside functions, unless strictly necessary (almost never!). This is a bad practice."
   ]
  },
  {
   "cell_type": "code",
   "execution_count": 8,
   "metadata": {
    "id": "KUOwSCrNWvv3"
   },
   "outputs": [
    {
     "name": "stdout",
     "output_type": "stream",
     "text": [
      "2\n",
      "4\n"
     ]
    }
   ],
   "source": [
    "def change_a():\n",
    "    global a\n",
    "    a = 4 # This is another \"a\" (local variable), it only exists in this function\n",
    "    \n",
    "a = 2\n",
    "print(a)\n",
    "change_a()\n",
    "print(a) # \"a\" has been changed"
   ]
  },
  {
   "cell_type": "markdown",
   "metadata": {
    "id": "yrBc55RpDcpO"
   },
   "source": [
    "\n",
    "# Files\n"
   ]
  },
  {
   "cell_type": "markdown",
   "metadata": {
    "id": "b9tZTFILDdNX"
   },
   "source": [
    "Write to a file"
   ]
  },
  {
   "cell_type": "code",
   "execution_count": 9,
   "metadata": {
    "id": "YUpx-pkPXNa0"
   },
   "outputs": [],
   "source": [
    "myfile = open('filetest.txt', 'w') # Write mode\n",
    "myfile.write('First line\\n')\n",
    "myfile.close()"
   ]
  },
  {
   "cell_type": "markdown",
   "metadata": {
    "id": "f9B5UWmaXNwO"
   },
   "source": [
    "Remember to always close files, or better use the \"with\" statement (the file is automatically closed):"
   ]
  },
  {
   "cell_type": "code",
   "execution_count": 10,
   "metadata": {
    "id": "bzAfTEFCXOCO"
   },
   "outputs": [],
   "source": [
    "with open('filetest.txt', 'w') as myfile:\n",
    "    myfile.write('First line\\n')"
   ]
  },
  {
   "cell_type": "markdown",
   "metadata": {
    "id": "fKu_virSXO__"
   },
   "source": [
    "Append to a file"
   ]
  },
  {
   "cell_type": "code",
   "execution_count": 11,
   "metadata": {
    "id": "2HL8MhkiXPRJ"
   },
   "outputs": [],
   "source": [
    "with open('filetest.txt', 'a') as myfile: # Append mode\n",
    "    myfile.write(\"Let's add another line\\n\")"
   ]
  },
  {
   "cell_type": "markdown",
   "metadata": {
    "id": "oSXI0Oe7XPkf"
   },
   "source": [
    "Read the entire file"
   ]
  },
  {
   "cell_type": "code",
   "execution_count": 12,
   "metadata": {
    "id": "bCEHGSOzXPw2"
   },
   "outputs": [
    {
     "name": "stdout",
     "output_type": "stream",
     "text": [
      "First line\n",
      "Let's add another line\n",
      "\n"
     ]
    }
   ],
   "source": [
    "with open('filetest.txt', 'r') as myfile: # Read mode\n",
    "    file_content = myfile.read() # Read the entire file\n",
    "print(file_content)"
   ]
  },
  {
   "cell_type": "markdown",
   "metadata": {
    "id": "JY_zARSqXq0i"
   },
   "source": [
    "Create a list with all the lines in the file"
   ]
  },
  {
   "cell_type": "code",
   "execution_count": 13,
   "metadata": {
    "id": "BLyQvRFqXqBb"
   },
   "outputs": [
    {
     "name": "stdout",
     "output_type": "stream",
     "text": [
      "['First line\\n', \"Let's add another line\\n\"]\n"
     ]
    }
   ],
   "source": [
    "with open('filetest.txt', 'r') as myfile: # Read mode\n",
    "    file_content_list = myfile.readlines() # Split lines into a list\n",
    "print(file_content_list)"
   ]
  },
  {
   "cell_type": "markdown",
   "metadata": {
    "id": "gFUVrvuxDd-G"
   },
   "source": [
    "\n",
    "# Modules\n"
   ]
  },
  {
   "cell_type": "markdown",
   "metadata": {
    "id": "FthPoDrfDedm"
   },
   "source": [
    "Import a module"
   ]
  },
  {
   "cell_type": "code",
   "execution_count": 14,
   "metadata": {
    "id": "7vwjDO_3X9XH"
   },
   "outputs": [],
   "source": [
    "import numpy\n",
    "a = numpy.array([1,2,3])"
   ]
  },
  {
   "cell_type": "markdown",
   "metadata": {
    "id": "wRgUcgeuX-OI"
   },
   "source": [
    "Rename the imported module"
   ]
  },
  {
   "cell_type": "code",
   "execution_count": 15,
   "metadata": {
    "id": "zxXW2_kzX-df"
   },
   "outputs": [],
   "source": [
    "import numpy as np\n",
    "a = np.array([1,2,3])"
   ]
  },
  {
   "cell_type": "markdown",
   "metadata": {
    "id": "rDBhzhidX-vV"
   },
   "source": [
    "Only import a single submodule"
   ]
  },
  {
   "cell_type": "code",
   "execution_count": 16,
   "metadata": {
    "id": "ES5oO7jpX-_m"
   },
   "outputs": [],
   "source": [
    "from numpy import array\n",
    "a = array([1,2,3])"
   ]
  },
  {
   "cell_type": "markdown",
   "metadata": {
    "id": "cXL4YgLKYFCV"
   },
   "source": [
    "or import a single submodule and rename it"
   ]
  },
  {
   "cell_type": "code",
   "execution_count": 17,
   "metadata": {
    "id": "5H3qPcFuYEsV"
   },
   "outputs": [],
   "source": [
    "from numpy import array as apple\n",
    "a = apple([1,2,3])"
   ]
  },
  {
   "cell_type": "markdown",
   "metadata": {
    "id": "PEppxaxjX_Zn"
   },
   "source": [
    "Import a custom module from an external file. \n",
    "\n",
    "Let's first create an external file with a defined function:"
   ]
  },
  {
   "cell_type": "code",
   "execution_count": 18,
   "metadata": {
    "id": "Tv9flPpTYtU4"
   },
   "outputs": [],
   "source": [
    "with open('my_module.py', 'w') as f:\n",
    "  f.write(\"\"\"\n",
    "def my_function():\n",
    "  print('My function executed!')\n",
    "  \"\"\")"
   ]
  },
  {
   "cell_type": "markdown",
   "metadata": {
    "id": "evTm-lA6ZKx1"
   },
   "source": [
    "Now we can import the module and call the functions inside it"
   ]
  },
  {
   "cell_type": "code",
   "execution_count": 19,
   "metadata": {
    "id": "-ls4c48oX_kv"
   },
   "outputs": [
    {
     "name": "stdout",
     "output_type": "stream",
     "text": [
      "My function executed!\n"
     ]
    }
   ],
   "source": [
    "import my_module \n",
    "my_module.my_function()"
   ]
  },
  {
   "cell_type": "markdown",
   "metadata": {
    "id": "NVn6j8vxX_5W"
   },
   "source": [
    "or just import a single function"
   ]
  },
  {
   "cell_type": "code",
   "execution_count": 20,
   "metadata": {
    "id": "-4kGqX9_YAH9"
   },
   "outputs": [
    {
     "name": "stdout",
     "output_type": "stream",
     "text": [
      "My function executed!\n"
     ]
    }
   ],
   "source": [
    "from my_module import my_function\n",
    "my_function()"
   ]
  },
  {
   "cell_type": "markdown",
   "metadata": {
    "id": "46BzXNGqDgLb"
   },
   "source": [
    "\n",
    "# Classes\n"
   ]
  },
  {
   "cell_type": "markdown",
   "metadata": {
    "id": "7TTIZ4uzav7Y"
   },
   "source": [
    "## Define a class"
   ]
  },
  {
   "cell_type": "code",
   "execution_count": 21,
   "metadata": {
    "id": "9xI6h0VDDgrN"
   },
   "outputs": [],
   "source": [
    "class MyClass:\n",
    "  \n",
    "    # Initialize method (This is a special function, and it is called every time a new object is created)\n",
    "    def __init__(self, init_param):\n",
    "        # Store the input parameter\n",
    "        self.init_param = init_param\n",
    "        # Without this statement the init_param would not be accessible after the execution of the __init__ function, since it is a local variable\n",
    "        \n",
    "    def print_param(self): # <- Every function in a class has the keyword \"self\" as first argument\n",
    "        # \"self\" is used to access the variables and methods stored in the object itself\n",
    "        print(self.init_param)\n",
    "\n",
    "    def set_param(self, new_param):\n",
    "        self.init_param = new_param\n",
    "        self.print_param()"
   ]
  },
  {
   "cell_type": "markdown",
   "metadata": {
    "id": "kMUox5B5arUi"
   },
   "source": [
    "## Create a new object\n"
   ]
  },
  {
   "cell_type": "code",
   "execution_count": 22,
   "metadata": {
    "id": "mv2HvfnJatDP"
   },
   "outputs": [],
   "source": [
    "myobject = MyClass(init_param=5) # The __init__ is executed"
   ]
  },
  {
   "cell_type": "markdown",
   "metadata": {
    "id": "bzQvHiMEatmf"
   },
   "source": [
    "init_param is stored in the object thanks to the initialize function"
   ]
  },
  {
   "cell_type": "code",
   "execution_count": 23,
   "metadata": {
    "id": "Bcz66JiZat-n"
   },
   "outputs": [
    {
     "name": "stdout",
     "output_type": "stream",
     "text": [
      "5\n"
     ]
    }
   ],
   "source": [
    "print(myobject.init_param)"
   ]
  },
  {
   "cell_type": "markdown",
   "metadata": {
    "id": "Ip7aAeBwauYn"
   },
   "source": [
    "## Accessing the methods"
   ]
  },
  {
   "cell_type": "code",
   "execution_count": 24,
   "metadata": {
    "id": "z48LHQibaux_"
   },
   "outputs": [
    {
     "name": "stdout",
     "output_type": "stream",
     "text": [
      "5\n",
      "7\n"
     ]
    }
   ],
   "source": [
    "myobject.print_param()\n",
    "myobject.set_param(7)"
   ]
  },
  {
   "cell_type": "markdown",
   "metadata": {
    "id": "dT89jRNka4Xn"
   },
   "source": [
    "## Inheritance"
   ]
  },
  {
   "cell_type": "code",
   "execution_count": 25,
   "metadata": {
    "id": "5d8s-YO5a4m_"
   },
   "outputs": [],
   "source": [
    "class MyClassChild(MyClass): # <- Parent class\n",
    "    \n",
    "    def __init__(self, init_param):\n",
    "        super().__init__(init_param) # super() calls the parent class\n",
    "    \n",
    "    def double_param(self):\n",
    "        self.set_param(self.init_param * 2)"
   ]
  },
  {
   "cell_type": "markdown",
   "metadata": {
    "id": "e3LRGgIha5qe"
   },
   "source": [
    "Define a new object"
   ]
  },
  {
   "cell_type": "code",
   "execution_count": 26,
   "metadata": {
    "id": "uf_vigvEa6KE"
   },
   "outputs": [],
   "source": [
    "myobject_child = MyClassChild(init_param=5) # The __init__ is executed"
   ]
  },
  {
   "cell_type": "markdown",
   "metadata": {
    "id": "hrzfmTAPa6e2"
   },
   "source": [
    "All the methods have been inherited"
   ]
  },
  {
   "cell_type": "code",
   "execution_count": 27,
   "metadata": {
    "id": "CQ9vSH9Sa6t2"
   },
   "outputs": [
    {
     "name": "stdout",
     "output_type": "stream",
     "text": [
      "5\n",
      "7\n",
      "14\n"
     ]
    }
   ],
   "source": [
    "myobject_child.print_param()\n",
    "myobject_child.set_param(7)\n",
    "myobject_child.double_param()"
   ]
  },
  {
   "cell_type": "markdown",
   "metadata": {
    "id": "IADsFsVTa7JW"
   },
   "source": [
    "## Callable Class"
   ]
  },
  {
   "cell_type": "code",
   "execution_count": 28,
   "metadata": {
    "id": "EpffrHyBa7Wv"
   },
   "outputs": [],
   "source": [
    "class AddFixedValue:\n",
    "    \n",
    "    def __init__(self, add_value):\n",
    "        # Store a constant value in the object, defined when a new object is created\n",
    "        self.add_value = add_value\n",
    "        \n",
    "    # \"magic\" function to make the object callable\n",
    "    def __call__(self, input_value):\n",
    "        # Add the value stored in the object to the input value\n",
    "        return input_value + self.add_value"
   ]
  },
  {
   "cell_type": "markdown",
   "metadata": {
    "id": "p5CIriTVa72V"
   },
   "source": [
    "Create a new callable object"
   ]
  },
  {
   "cell_type": "code",
   "execution_count": 31,
   "metadata": {
    "id": "LLplm1k0a8Fl"
   },
   "outputs": [],
   "source": [
    "add_fixed_value = AddFixedValue(add_value=3)"
   ]
  },
  {
   "cell_type": "markdown",
   "metadata": {
    "id": "AmCYKOdHa8a9"
   },
   "source": [
    "Now we can directly call the object, and it adds to the input the predefined value (3)"
   ]
  },
  {
   "cell_type": "code",
   "execution_count": 32,
   "metadata": {
    "id": "YHZaKha0a8oU"
   },
   "outputs": [
    {
     "name": "stdout",
     "output_type": "stream",
     "text": [
      "13\n",
      "18\n"
     ]
    }
   ],
   "source": [
    "result = add_fixed_value(10)\n",
    "print(result)\n",
    "result = add_fixed_value(15)\n",
    "print(result)"
   ]
  },
  {
   "cell_type": "markdown",
   "metadata": {
    "id": "OkuF2v4xDhkl"
   },
   "source": [
    "\n",
    "# Numpy\n"
   ]
  },
  {
   "cell_type": "markdown",
   "metadata": {
    "id": "CiavVixjceAi"
   },
   "source": [
    "Documentation: https://numpy.org/"
   ]
  },
  {
   "cell_type": "code",
   "execution_count": 33,
   "metadata": {
    "id": "ozNV6CqIDiIq"
   },
   "outputs": [],
   "source": [
    "import matplotlib.pyplot as plt\n",
    "import numpy as np"
   ]
  },
  {
   "cell_type": "markdown",
   "metadata": {
    "id": "qzOA6n4UbOcO"
   },
   "source": [
    "## Define arrays"
   ]
  },
  {
   "cell_type": "code",
   "execution_count": 34,
   "metadata": {
    "id": "xWyyydhNbP4K"
   },
   "outputs": [],
   "source": [
    "a = np.array([1,2,3])            # Create a rank 1 array\n",
    "b = np.array([[1,2,3],[4,5,6]])    # Create a rank 2 array"
   ]
  },
  {
   "cell_type": "markdown",
   "metadata": {
    "id": "kN-4YnsXbQYT"
   },
   "source": [
    "Shapes"
   ]
  },
  {
   "cell_type": "code",
   "execution_count": 35,
   "metadata": {
    "id": "-sAF3fksbQpj"
   },
   "outputs": [
    {
     "name": "stdout",
     "output_type": "stream",
     "text": [
      "\"a\" shape: (3,)\n",
      "\"b\" shape: (2, 3)\n"
     ]
    }
   ],
   "source": [
    "print('\"a\" shape:', a.shape)\n",
    "print('\"b\" shape:', b.shape)"
   ]
  },
  {
   "cell_type": "markdown",
   "metadata": {
    "id": "U0r17mrfbQ-i"
   },
   "source": [
    "Accessing elements"
   ]
  },
  {
   "cell_type": "code",
   "execution_count": 36,
   "metadata": {
    "id": "VcNe_okgbRLy"
   },
   "outputs": [
    {
     "name": "stdout",
     "output_type": "stream",
     "text": [
      "2\n"
     ]
    }
   ],
   "source": [
    "print(a[1])"
   ]
  },
  {
   "cell_type": "markdown",
   "metadata": {
    "id": "qKVnbrGfbRaT"
   },
   "source": [
    "Negative indexing (like lists)"
   ]
  },
  {
   "cell_type": "code",
   "execution_count": 37,
   "metadata": {
    "id": "9p5gv-cibRsH"
   },
   "outputs": [
    {
     "name": "stdout",
     "output_type": "stream",
     "text": [
      "3\n"
     ]
    }
   ],
   "source": [
    "print(a[-1])"
   ]
  },
  {
   "cell_type": "markdown",
   "metadata": {
    "id": "GAbWeKdZbSEI"
   },
   "source": [
    "Multiple indexes"
   ]
  },
  {
   "cell_type": "code",
   "execution_count": 38,
   "metadata": {
    "id": "FdDTOGcMbr9D"
   },
   "outputs": [
    {
     "name": "stdout",
     "output_type": "stream",
     "text": [
      "2\n"
     ]
    }
   ],
   "source": [
    "print(b[0, 1])"
   ]
  },
  {
   "cell_type": "markdown",
   "metadata": {
    "id": "72QHGg90bSjZ"
   },
   "source": [
    "Most of the basic MATLAB functions are similar"
   ]
  },
  {
   "cell_type": "code",
   "execution_count": 39,
   "metadata": {
    "id": "xAOMuHLqbh17"
   },
   "outputs": [
    {
     "name": "stdout",
     "output_type": "stream",
     "text": [
      "[[0. 0. 0.]\n",
      " [0. 0. 0.]\n",
      " [0. 0. 0.]]\n",
      "[[1. 1. 1.]\n",
      " [1. 1. 1.]\n",
      " [1. 1. 1.]\n",
      " [1. 1. 1.]]\n",
      "[[1. 0. 0. 0. 0.]\n",
      " [0. 1. 0. 0. 0.]\n",
      " [0. 0. 1. 0. 0.]\n",
      " [0. 0. 0. 1. 0.]\n",
      " [0. 0. 0. 0. 1.]]\n",
      "[0 1 2 3 4]\n",
      "[[1 1]\n",
      " [1 1]\n",
      " [1 1]\n",
      " [1 1]\n",
      " [1 1]]\n",
      "(5, 2)\n",
      "[[0 0]\n",
      " [0 0]\n",
      " [0 0]\n",
      " [0 0]\n",
      " [0 0]]\n",
      "(5, 2)\n"
     ]
    }
   ],
   "source": [
    "print(np.zeros([3,3])) # create a 3x3 matrix of zeros\n",
    "print(np.ones([4,3])) # create a 4x3 matrix of ones\n",
    "print(np.eye(5)) # create the 5x5 identity matrix\n",
    "print(np.arange(5)) # create the array [0, 1, 2, 3, 4]\n",
    "a = np.arange(10).reshape((5, 2))\n",
    "print(np.ones_like(a))\n",
    "print(np.ones_like(a).shape)\n",
    "\n",
    "print(np.zeros_like(a))\n",
    "print(np.zeros_like(a).shape)"
   ]
  },
  {
   "cell_type": "markdown",
   "metadata": {
    "id": "jkWxyazAbTJQ"
   },
   "source": [
    "## Random module\n",
    "\n",
    "Uniform random variable"
   ]
  },
  {
   "cell_type": "code",
   "execution_count": 45,
   "metadata": {
    "id": "sJBmYkasbTXg"
   },
   "outputs": [
    {
     "data": {
      "text/plain": [
       "<matplotlib.legend.Legend at 0x23d7a1936a0>"
      ]
     },
     "execution_count": 45,
     "metadata": {},
     "output_type": "execute_result"
    },
    {
     "data": {
      "image/png": "[encoded data removed]",
      "text/plain": [
       "<Figure size 640x480 with 1 Axes>"
      ]
     },
     "metadata": {},
     "output_type": "display_data"
    }
   ],
   "source": [
    "# Uniform\n",
    "num_samples = 10000\n",
    "num_bins = 20\n",
    "a = np.random.random(num_samples)\n",
    "plt.figure()\n",
    "plt.hist(a, num_bins)\n",
    "plt.plot(np.arange(0,1,1/num_bins)+1/(2*num_bins), np.ones(num_bins)*num_samples/num_bins, 'r-')\n",
    "plt.xlabel('Value')\n",
    "plt.ylabel('Counts')\n",
    "plt.legend(['Empirical', 'Ground truth'])"
   ]
  },
  {
   "cell_type": "markdown",
   "metadata": {
    "id": "uzJWNkkTcEzb"
   },
   "source": [
    "Normal random variable"
   ]
  },
  {
   "cell_type": "code",
   "execution_count": 41,
   "metadata": {
    "id": "WlvDHvYlcA3s"
   },
   "outputs": [
    {
     "data": {
      "text/plain": [
       "Text(0, 0.5, 'Counts')"
      ]
     },
     "execution_count": 41,
     "metadata": {},
     "output_type": "execute_result"
    },
    {
     "data": {
      "image/png": "[encoded data removed]",
      "text/plain": [
       "<Figure size 640x480 with 1 Axes>"
      ]
     },
     "metadata": {},
     "output_type": "display_data"
    }
   ],
   "source": [
    "# Normal\n",
    "a = np.random.randn(num_samples)\n",
    "plt.figure()\n",
    "plt.hist(a, num_bins)\n",
    "plt.xlabel('Value')\n",
    "plt.ylabel('Counts')"
   ]
  },
  {
   "cell_type": "markdown",
   "metadata": {
    "id": "zIpXsl0fcGnZ"
   },
   "source": [
    "Exponential random variable"
   ]
  },
  {
   "cell_type": "code",
   "execution_count": 47,
   "metadata": {
    "id": "1R2rwggucDWC"
   },
   "outputs": [
    {
     "data": {
      "text/plain": [
       "Text(0, 0.5, 'Counts')"
      ]
     },
     "execution_count": 47,
     "metadata": {},
     "output_type": "execute_result"
    },
    {
     "data": {
      "image/png": "[encoded data removed]",
      "text/plain": [
       "<Figure size 640x480 with 1 Axes>"
      ]
     },
     "metadata": {},
     "output_type": "display_data"
    }
   ],
   "source": [
    "# Exponential\n",
    "a = np.random.exponential(scale=1, size=num_samples) # scale is the scale parameter (non-negative)\n",
    "plt.figure()\n",
    "plt.hist(a, num_bins)\n",
    "plt.xlabel('Value')\n",
    "plt.ylabel('Counts')"
   ]
  },
  {
   "cell_type": "markdown",
   "metadata": {
    "id": "3k-jrHtySmRq"
   },
   "source": [
    "## Indexing\n",
    "In numpy arrays a very important operation is slicing which consists in getting slices of the considered array. In particular the syntax for slicing a certain dimension of an array is as follows (end is non inclusive):\n",
    "```python\n",
    "a[start:end:step_size]\n",
    "```\n"
   ]
  },
  {
   "cell_type": "code",
   "execution_count": 50,
   "metadata": {
    "id": "3zKPaF9aSkQ8"
   },
   "outputs": [
    {
     "name": "stdout",
     "output_type": "stream",
     "text": [
      "From index 4 (included) to index 7 (excluded)\n",
      "[4 5 6]\n",
      "From index 5 to end\n",
      "[ 5  6  7  8  9 10 11 12 13 14 15 16 17 18 19]\n",
      "First 5 values\n",
      "[0 1 2 3 4]\n",
      "Last 5 values\n",
      "[15 16 17 18 19]\n",
      "One every two numbers between index 2 and 6\n",
      "[2 4]\n",
      "One every three numbers in the array\n",
      "[ 0  3  6  9 12 15 18]\n",
      "Reverse the array\n",
      "[19 18 17 16 15 14 13 12 11 10  9  8  7  6  5  4  3  2  1  0]\n",
      "Values in indexes between 6 and 10 in reverse order\n",
      "[10  9  8  7]\n",
      "[[[[ 0  1]\n",
      "   [ 2  3]]\n",
      "\n",
      "  [[ 4  5]\n",
      "   [ 6  7]]]\n",
      "\n",
      "\n",
      " [[[ 8  9]\n",
      "   [10 11]]\n",
      "\n",
      "  [[12 13]\n",
      "   [14 15]]]]\n",
      "slice along the last dimension\n",
      "[[[ 0  2]\n",
      "  [ 4  6]]\n",
      "\n",
      " [[ 8 10]\n",
      "  [12 14]]]\n",
      "Equivalently\n",
      "[[[ 0  2]\n",
      "  [ 4  6]]\n",
      "\n",
      " [[ 8 10]\n",
      "  [12 14]]]\n"
     ]
    }
   ],
   "source": [
    "a = np.arange(20)\n",
    "print(\"From index 4 (included) to index 7 (excluded)\")\n",
    "print(a[4:7])\n",
    "print(\"From index 5 to end\")\n",
    "print(a[5:])\n",
    "print(\"First 5 values\")\n",
    "print(a[:5])\n",
    "print(\"Last 5 values\")\n",
    "print(a[-5:])\n",
    "print(\"One every two numbers between index 2 and 6\")\n",
    "print(a[2:6:2])\n",
    "print(\"One every three numbers in the array\")\n",
    "print(a[::3]) #in this case you can omit the start and end indexes\n",
    "print(\"Reverse the array\")\n",
    "print(a[::-1]) #you can have even negative step\n",
    "print(\"Values in indexes between 6 and 10 in reverse order\")\n",
    "print(a[10:6:-1]) # in this case you need to have start > end\n",
    "a = np.arange(16).reshape((2, 2, 2, 2))\n",
    "print(a)\n",
    "print(\"slice along the last dimension\")\n",
    "print(a[:, :, :, 0])\n",
    "print(\"Equivalently\") \n",
    "print(a[..., 0])"
   ]
  },
  {
   "cell_type": "markdown",
   "metadata": {
    "id": "9UHf6BAHcLHX"
   },
   "source": [
    "**PAY ATTENTION WHEN COPYING ARRAYS!!**"
   ]
  },
  {
   "cell_type": "code",
   "execution_count": 51,
   "metadata": {
    "id": "AuTcCwfucLX_"
   },
   "outputs": [
    {
     "name": "stdout",
     "output_type": "stream",
     "text": [
      "a: [1 2 3 4 5 6]\n",
      "a: [1999    2    3    4    5    6]\n"
     ]
    }
   ],
   "source": [
    "a = np.array([1,2,3,4,5,6])\n",
    "print('a:', a)\n",
    "b = a\n",
    "b[0] = 1999\n",
    "print('a:', a)\n"
   ]
  },
  {
   "cell_type": "markdown",
   "metadata": {
    "id": "jbu6jVqfca6z"
   },
   "source": [
    "a HAS BEEN ALSO MODIFIED!! Always check if the = operator assigns values or pointers!\n",
    "\n",
    "To make a safe copy"
   ]
  },
  {
   "cell_type": "code",
   "execution_count": 52,
   "metadata": {
    "id": "fs1CZxRfcc5V"
   },
   "outputs": [],
   "source": [
    "b = a.copy()"
   ]
  },
  {
   "cell_type": "markdown",
   "metadata": {
    "id": "rmnxiSjHcdej"
   },
   "source": [
    "Now the two variables have been allocated in two different areas of the memory"
   ]
  },
  {
   "cell_type": "markdown",
   "metadata": {
    "id": "Nw23G7q7cLx-"
   },
   "source": [
    "## Data type\n",
    "\n",
    "Automatically infer the type"
   ]
  },
  {
   "cell_type": "code",
   "execution_count": 53,
   "metadata": {
    "id": "Bl3OHI78cMe-"
   },
   "outputs": [
    {
     "name": "stdout",
     "output_type": "stream",
     "text": [
      "int32\n",
      "float64\n",
      "float32\n"
     ]
    }
   ],
   "source": [
    "a = np.array([1,2,3,4,5,6])\n",
    "print(a.dtype)\n",
    "a = np.array([1.0,2,3,4,5,6])\n",
    "print(a.dtype)\n",
    "# Explicit declaration\n",
    "a = np.array([1,2,3,4,5,6], dtype=np.float32)\n",
    "print(a.dtype)"
   ]
  },
  {
   "cell_type": "markdown",
   "metadata": {
    "id": "oJf6QRJjcNFX"
   },
   "source": [
    "## Masking"
   ]
  },
  {
   "cell_type": "code",
   "execution_count": 54,
   "metadata": {
    "id": "oNBNwuVfcNVe"
   },
   "outputs": [
    {
     "name": "stdout",
     "output_type": "stream",
     "text": [
      "[False False False  True  True  True]\n",
      "[1 2 3 3 3 3]\n"
     ]
    }
   ],
   "source": [
    "a = np.array([1,2,3,4,5,6])\n",
    "# Create mask\n",
    "mask = a > 3\n",
    "print(mask)\n",
    "# Apply mask\n",
    "a[mask] = 3\n",
    "print(a)"
   ]
  },
  {
   "cell_type": "markdown",
   "metadata": {
    "id": "cQACqOIucN49"
   },
   "source": [
    "## Matrix math"
   ]
  },
  {
   "cell_type": "code",
   "execution_count": 55,
   "metadata": {
    "id": "TkDwIkJscOKW"
   },
   "outputs": [
    {
     "name": "stdout",
     "output_type": "stream",
     "text": [
      "a = \n",
      " [[1 2]\n",
      " [3 4]] \n",
      "b = \n",
      " [[5 6]\n",
      " [7 8]]\n",
      "Elementwise sum\n",
      " [[ 6  8]\n",
      " [10 12]]\n",
      "Elementwise difference\n",
      " [[-4 -4]\n",
      " [-4 -4]]\n",
      "Elementwise product\n",
      " [[ 5 12]\n",
      " [21 32]]\n",
      "Elementwise division\n",
      " [[0.2        0.33333333]\n",
      " [0.42857143 0.5       ]]\n",
      "Transpose\n",
      " [[1 3]\n",
      " [2 4]]\n"
     ]
    }
   ],
   "source": [
    "a = np.array([[1,2], [3,4]])\n",
    "b = np.array([[5,6], [7,8]])\n",
    "print('a = \\n', a, '\\nb = \\n', b)\n",
    "# Elementwise operations\n",
    "c = a + b\n",
    "print('Elementwise sum\\n', c)\n",
    "c = a - b\n",
    "print('Elementwise difference\\n', c)\n",
    "c = a * b\n",
    "print('Elementwise product\\n', c)\n",
    "c = a / b\n",
    "print('Elementwise division\\n', c)\n",
    "# Transpose\n",
    "c = a.T\n",
    "print('Transpose\\n', c)"
   ]
  },
  {
   "cell_type": "markdown",
   "metadata": {
    "id": "VakEZFLX9UeE"
   },
   "source": [
    "Matrix multiplication in numpy can be done in two differet ways i.e. np.dot and np.matmul. In case on 1D and 2D matrix multiplication these two functions are equivalent. On the other hand for ND matrices they have different behaviours in particular:\n",
    "* dot: implements the multiplication of tensors a, b as:\n",
    "    ```python\n",
    "    dot(a, b)[i, j, k, m] = sum(a[i, j, :] * b[k, :, m])\n",
    "    ```\n",
    "So given $a \\in \\mathbb{R}^{N \\times H \\times K}, b \\in \\mathbb{R}^{M \\times K \\times D}$ then $dot(a, b) \\in \\mathbb{R}^{N \\times H \\times M \\times D}$. Basically this computes all the possible combinations of matrix multiplications between the matrices in the last two dimensions of the tensors.\n",
    "\n",
    "* matmul: implements matrix multiplication between by seeing the tensors as matrices stacked along the first N-2 dimensions (useful for example for batch multiplication)\n",
    "    \n",
    "    ```python\n",
    "    matmul(a, b)[i] = matmul(a[i, :, :], b[i, :, :])\n",
    "    ```\n",
    "The operator @ can be used for matrix multiplication and it executes the matmul operation\n",
    "So given $a \\in \\mathbb{R}^{N \\times H \\times K}, b \\in \\mathbb{R}^{N \\times K \\times D}$ then $matmul(a, b) \\in \\mathbb{R}^{N \\times H \\times D}$ (note how here the output is 3D and the first dimension must have the same size in both input tensors)."
   ]
  },
  {
   "cell_type": "code",
   "execution_count": null,
   "metadata": {
    "id": "AGXYL5op_gNJ"
   },
   "outputs": [],
   "source": [
    "# Matrix product\n",
    "c = np.dot(a, b)\n",
    "print('Matrix product (np.dot)\\n', c)\n",
    "# or \n",
    "c = a.dot(b)\n",
    "print('Matrix product (np.dot)\\n', c)\n",
    "c = np.matmul(a, b)\n",
    "print('Matrix product (np.matmul)\\n', c)\n",
    "c = a @ b\n",
    "print('Matrix product (@ -> np.matmul)\\n', c)\n",
    "\n",
    "v1 = np.ones((3, 4, 5)) # N x H x K\n",
    "v2 = np.ones((6, 5, 7)) # M x K x D\n",
    "print(\"dot tensor product shape\")\n",
    "print(v1.dot(v2).shape) # N x H x M x D\n",
    "\n",
    "v1 = np.ones((3, 4, 5)) # N x H x K\n",
    "v2 = np.ones((3, 5, 7)) # N x K x D\n",
    "print(\"matmul tensor product shape\")\n",
    "print((v1@v2).shape) # N x H x D"
   ]
  },
  {
   "cell_type": "markdown",
   "metadata": {
    "id": "QcztTuIVxe-O"
   },
   "source": [
    "## Functions\n",
    "Numpy also provides a lot of functions to perform operations on an ND array, some examples are:\n",
    "* sum: computes the sum of the array along the specified axis (or the global mean)\n",
    "* mean: computes the mean of the array along the specified axis (or the global mean)\n",
    "* abs: computes the absolute value of the numbers in the array\n",
    "* clip: clips the values in the array between a min and a max value\n",
    "\n",
    "There are many more functions that apply operations on the values in the array or along an axis, when in doubt search online and it is usually very simple to find out what you are searching for.\n",
    "\n",
    "One fundamental concept is the axis argument which is used to specify along which dimension the operation is carried out (for example in the sum or mean functions). It is generally easier to think that the axis argument is the dimension that should be \"collapsed\" by the operation. For example suppose that you want to sum the columns in an NxM matrix then you want to obtain a Nx1 output. In this case the number of columns has been collapsed to 1 so you want the axis argument to be 1."
   ]
  },
  {
   "cell_type": "code",
   "execution_count": 56,
   "metadata": {
    "id": "r3FMa-NP9qZS"
   },
   "outputs": [
    {
     "name": "stdout",
     "output_type": "stream",
     "text": [
      "original shape: (2, 3)\n",
      "\n",
      "Sum of the columns\n",
      "[[ 6]\n",
      " [-9]]\n",
      "Shape when summing all columns: (2, 1)\n",
      "\n",
      "Sum of the rows\n",
      "[[-1 -1 -1]]\n",
      "Shape when summing all rows: (1, 3)\n",
      "\n",
      "Sum of all the values in the matrix: -3\n",
      "\n",
      "Mean of all the values in the matrix: -0.5\n",
      "\n",
      "Result of the abs function\n",
      "[[1 2 3]\n",
      " [2 3 4]]\n",
      "\n",
      "Result of the clip function\n",
      "[[1 2 3]\n",
      " [0 0 0]]\n"
     ]
    }
   ],
   "source": [
    "a = np.array([\n",
    "    [1, 2, 3],\n",
    "    [-2, -3, -4]\n",
    "])\n",
    "print(f\"original shape: {a.shape}\")\n",
    "\n",
    "print(\"\\nSum of the columns\")\n",
    "print(np.sum(a, axis=1, keepdims=True))\n",
    "print(f\"Shape when summing all columns: {np.sum(a, axis=1, keepdims=True).shape}\")\n",
    "print(\"\\nSum of the rows\")\n",
    "print(np.sum(a, axis=0, keepdims=True))\n",
    "print(f\"Shape when summing all rows: {np.sum(a, axis=0, keepdims=True).shape}\")\n",
    "\n",
    "print(f\"\\nSum of all the values in the matrix: {np.sum(a)}\")\n",
    "\n",
    "print(f\"\\nMean of all the values in the matrix: {np.mean(a)}\")\n",
    "\n",
    "print(\"\\nResult of the abs function\")\n",
    "print(np.abs(a))\n",
    "\n",
    "print(\"\\nResult of the clip function\")\n",
    "print(np.clip(a, 0, 5))"
   ]
  },
  {
   "cell_type": "markdown",
   "metadata": {
    "id": "1RfyMHr63dPd"
   },
   "source": [
    "## Broadcasting\n",
    "\n",
    "Broadcasting is a technique in numpy that allows you to perform operations between arrays with different shapes (very useful if you need to repeat the same array multiple times for an operation). \n",
    "Given two arrays with different dimensions, these two can be combined together using an operation like + or * as long as their corresponding dimensions broadcast compatible.\n",
    "Two dimensions are broadcast compatible if:\n",
    "* They have the same size.\n",
    "* One of the two has size 1.\n",
    "\n",
    "For example suppose that we want to sum 2 arrays $a \\in \\mathbb{R}^{4 \\times 6}, b \\in \\mathbb{R}^{1 \\times 6}$ than even though the two don't have the same shape they can still be summed by repeating b four times along the first dimension.\n",
    "One simple example of broadcasting is when you add a constant number to an array, in that case the number is broadcasted to the shape of the array and then summed up"
   ]
  },
  {
   "cell_type": "code",
   "execution_count": 57,
   "metadata": {
    "id": "7eQw3q4O3az2"
   },
   "outputs": [
    {
     "name": "stdout",
     "output_type": "stream",
     "text": [
      "a.shape: (4, 6), b.shape: (1, 6), (a+b).shape: (4, 6)\n",
      "a:\n",
      "[[0. 0. 0. 0. 0. 0.]\n",
      " [0. 0. 0. 0. 0. 0.]\n",
      " [0. 0. 0. 0. 0. 0.]\n",
      " [0. 0. 0. 0. 0. 0.]]\n",
      "b:\n",
      "[[0 1 2 3 4 5]]\n",
      "a + b:\n",
      "[[0. 1. 2. 3. 4. 5.]\n",
      " [0. 1. 2. 3. 4. 5.]\n",
      " [0. 1. 2. 3. 4. 5.]\n",
      " [0. 1. 2. 3. 4. 5.]]\n"
     ]
    }
   ],
   "source": [
    "a = np.zeros((4, 6))\n",
    "b = np.arange(6).reshape(1, 6)\n",
    "print(f\"a.shape: {a.shape}, b.shape: {b.shape}, (a+b).shape: {(a+b).shape}\")\n",
    "print(\"a:\")\n",
    "print(a)\n",
    "print(\"b:\")\n",
    "print(b)\n",
    "print(\"a + b:\")\n",
    "print(a+b)"
   ]
  },
  {
   "cell_type": "markdown",
   "metadata": {
    "id": "42WKz1Qe7mIK"
   },
   "source": [
    "In general if the two vectors don't have the same number of dimensions then numpy is usually clever enough to match the ones that have the same size and then to broadcast all the others.\n",
    "\n",
    "However there are cases when numpy might not be able to correctly perform broadcasting (for example if a has shape 6x6 and b has shape 6) in which case you need to manually match the dimensions either using reshape or np.newaxis otherwise numpy will match together the dimensions and broadcast the remaining ones (in general newaxis is more flexible because it does not require to know the shape of the vector)."
   ]
  },
  {
   "cell_type": "code",
   "execution_count": 61,
   "metadata": {
    "id": "yPmmwZnL5kIF"
   },
   "outputs": [
    {
     "name": "stdout",
     "output_type": "stream",
     "text": [
      "a.shape: (3, 3), b.shape: (3,), (a+b).shape: (3, 3)\n",
      "a:\n",
      "[[0. 0. 0.]\n",
      " [0. 0. 0.]\n",
      " [0. 0. 0.]]\n",
      "b:\n",
      "[0 1 2]\n",
      "a + b:\n",
      "[[0. 1. 2.]\n",
      " [0. 1. 2.]\n",
      " [0. 1. 2.]]\n",
      "broadcast columns with reshape\n",
      "[[0. 0. 0.]\n",
      " [1. 1. 1.]\n",
      " [2. 2. 2.]]\n",
      "broadcast columns with np.newaxis\n",
      "[[0. 0. 0.]\n",
      " [1. 1. 1.]\n",
      " [2. 2. 2.]]\n"
     ]
    }
   ],
   "source": [
    "a = np.zeros((3, 3))\n",
    "b = np.arange(3)\n",
    "print(f\"a.shape: {a.shape}, b.shape: {b.shape}, (a+b).shape: {(a+b).shape}\")\n",
    "print(\"a:\")\n",
    "print(a)\n",
    "print(\"b:\")\n",
    "print(b)\n",
    "print(\"a + b:\")\n",
    "print(a+b)\n",
    "print(\"broadcast columns with reshape\")\n",
    "print(a + b.reshape(-1, 1))\n",
    "print(\"broadcast columns with np.newaxis\")\n",
    "print(a + b[:, np.newaxis])"
   ]
  }
 ],
 "metadata": {
  "colab": {
   "collapsed_sections": [],
   "provenance": [],
   "toc_visible": true
  },
  "environment": {
   "name": "pytorch-gpu.1-9.m79",
   "type": "gcloud",
   "uri": "gcr.io/deeplearning-platform-release/pytorch-gpu.1-9:m79"
  },
  "kernelspec": {
   "display_name": "base",
   "language": "python",
   "name": "python3"
  },
  "language_info": {
   "codemirror_mode": {
    "name": "ipython",
    "version": 3
   },
   "file_extension": ".py",
   "mimetype": "text/x-python",
   "name": "python",
   "nbconvert_exporter": "python",
   "pygments_lexer": "ipython3",
   "version": "3.12.7"
  }
 },
 "nbformat": 4,
 "nbformat_minor": 0
}
